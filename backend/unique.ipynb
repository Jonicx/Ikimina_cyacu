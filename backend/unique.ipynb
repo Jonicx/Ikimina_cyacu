{
 "cells": [
  {
   "cell_type": "code",
   "execution_count": 65,
   "metadata": {
    "collapsed": true
   },
   "outputs": [
    {
     "name": "stdout",
     "output_type": "stream",
     "text": [
      "DA3B93\n",
      "8527289\n",
      "()\n",
      "()\n"
     ]
    }
   ],
   "source": [
    "from hashids import Hashids\n",
    "hash_id = Hashids(alphabet='0123456789ABCDEF',salt='IKIMINA', min_length=6)\n",
    "\n",
    "print(hash_id.encrypt(0))\n",
    "print(hash_id.encrypt(200002))\n",
    "# it is reversible\n",
    "\n",
    "print(hash_id.decrypt('W8MXgm4P'))\n",
    "print(hash_id.decrypt('8MX5pqe4'))\n",
    "\n"
   ]
  },
  {
   "cell_type": "code",
   "execution_count": 65,
   "outputs": [],
   "source": [],
   "metadata": {
    "collapsed": false,
    "pycharm": {
     "name": "#%%\n"
    }
   }
  },
  {
   "cell_type": "code",
   "execution_count": 66,
   "outputs": [],
   "source": [
    "# for i in range(10000):\n",
    "\n",
    "    # print(uNumber)\n",
    "    # uNumbers.append(uNumber)"
   ],
   "metadata": {
    "collapsed": false,
    "pycharm": {
     "name": "#%%\n"
    }
   }
  },
  {
   "cell_type": "code",
   "execution_count": 67,
   "outputs": [],
   "source": [
    "def checkIfDuplicates_1(listOfElems):\n",
    "    ''' Check if given list contains any duplicates '''\n",
    "    if len(listOfElems) == len(set(listOfElems)):\n",
    "        return False\n",
    "    else:\n",
    "        return True"
   ],
   "metadata": {
    "collapsed": false,
    "pycharm": {
     "name": "#%%\n"
    }
   }
  },
  {
   "cell_type": "code",
   "execution_count": 68,
   "outputs": [],
   "source": [
    "# result = checkIfDuplicates_1(uNumbers)\n",
    "# if result:\n",
    "#     print('Yes, list contains duplicates')\n",
    "# else:\n",
    "#     print('No duplicates found in list')"
   ],
   "metadata": {
    "collapsed": false,
    "pycharm": {
     "name": "#%%\n"
    }
   }
  }
 ],
 "metadata": {
  "kernelspec": {
   "display_name": "Python 3",
   "language": "python",
   "name": "python3"
  },
  "language_info": {
   "codemirror_mode": {
    "name": "ipython",
    "version": 2
   },
   "file_extension": ".py",
   "mimetype": "text/x-python",
   "name": "python",
   "nbconvert_exporter": "python",
   "pygments_lexer": "ipython2",
   "version": "2.7.6"
  }
 },
 "nbformat": 4,
 "nbformat_minor": 0
}